{
 "cells": [
  {
   "cell_type": "markdown",
   "id": "burning-economy",
   "metadata": {},
   "source": [
    "# TPM_rsem_tximport_DESeq2.R"
   ]
  },
  {
   "cell_type": "markdown",
   "id": "realistic-there",
   "metadata": {},
   "source": [
    "### install packages if necessary\n",
    "if (!requireNamespace(\"BiocManager\", quietly = TRUE))\n",
    "  install.packages(\"BiocManager\")\n",
    "BiocManager::install(\"tximportData\")\n",
    "BiocManager::install(\"tximport\")\n",
    "BiocManager::install(\"DESeq2\")"
   ]
  },
  {
   "cell_type": "code",
   "execution_count": null,
   "id": "dietary-prompt",
   "metadata": {},
   "outputs": [],
   "source": [
    "library(tximportData)\n",
    "library(tximport)\n",
    "library(DESeq2)"
   ]
  },
  {
   "cell_type": "code",
   "execution_count": null,
   "id": "ancient-limitation",
   "metadata": {},
   "outputs": [],
   "source": [
    "samplesheet <- read.csv(\"/workspace/nf-rnaseq/con_vin_results/pipeline_info/samplesheet.valid.csv\")\n",
    "samples <- strsplit(samplesheet$sample, split = \"_T1\")"
   ]
  },
  {
   "cell_type": "code",
   "execution_count": null,
   "id": "brilliant-advocate",
   "metadata": {},
   "outputs": [],
   "source": [
    "samples"
   ]
  },
  {
   "cell_type": "code",
   "execution_count": null,
   "id": "alone-script",
   "metadata": {},
   "outputs": [],
   "source": [
    "files <- file.path(\"/workspace/nf-rnaseq/con_vin_results/star_rsem\", paste0(samples, \".genes.results\"))\n",
    "file.exists(files)"
   ]
  },
  {
   "cell_type": "code",
   "execution_count": null,
   "id": "legitimate-lambda",
   "metadata": {},
   "outputs": [],
   "source": [
    "txi.rsem <- tximport(files, type = \"rsem\", txIn = FALSE, txOut = FALSE)"
   ]
  },
  {
   "cell_type": "code",
   "execution_count": null,
   "id": "middle-anthropology",
   "metadata": {},
   "outputs": [],
   "source": [
    "txi.rsem$length[txi.rsem$length == 0] <- 1 # https://support.bioconductor.org/p/92763/\n",
    "head(txi.rsem$counts)"
   ]
  },
  {
   "cell_type": "code",
   "execution_count": null,
   "id": "operational-disney",
   "metadata": {},
   "outputs": [],
   "source": [
    "dim(txi.rsem$counts)"
   ]
  },
  {
   "cell_type": "code",
   "execution_count": null,
   "id": "historic-edition",
   "metadata": {},
   "outputs": [],
   "source": [
    "colnames(txi.rsem$counts) <- samples\n",
    "head(txi.rsem$counts)"
   ]
  },
  {
   "cell_type": "code",
   "execution_count": null,
   "id": "quiet-passport",
   "metadata": {},
   "outputs": [],
   "source": [
    "sampleTable <- data.frame(condition = c(rep(\"Control\", 29), rep(\"Vinclozolin\", 27)))"
   ]
  },
  {
   "cell_type": "code",
   "execution_count": null,
   "id": "quality-hotel",
   "metadata": {},
   "outputs": [],
   "source": [
    "rownames(sampleTable) <- colnames(txi.rsem$counts)"
   ]
  },
  {
   "cell_type": "code",
   "execution_count": null,
   "id": "matched-terrace",
   "metadata": {},
   "outputs": [],
   "source": [
    "dds <- DESeqDataSetFromTximport(txi.rsem, sampleTable, ~condition)\n",
    "dds <- DESeq(dds)\n",
    "res <- results(dds)\n",
    "res"
   ]
  },
  {
   "cell_type": "code",
   "execution_count": null,
   "id": "decent-apache",
   "metadata": {},
   "outputs": [],
   "source": [
    "summary(res)"
   ]
  },
  {
   "cell_type": "code",
   "execution_count": null,
   "id": "parental-jungle",
   "metadata": {},
   "outputs": [],
   "source": [
    "write.csv(as.data.frame(res),file=\"con_vin_results/star_rsem/con_vin_deseq2_diffexp.csv\")"
   ]
  },
  {
   "cell_type": "code",
   "execution_count": null,
   "id": "stunning-theme",
   "metadata": {},
   "outputs": [],
   "source": []
  },
  {
   "cell_type": "code",
   "execution_count": null,
   "id": "indonesian-disaster",
   "metadata": {},
   "outputs": [],
   "source": []
  },
  {
   "cell_type": "code",
   "execution_count": null,
   "id": "photographic-expert",
   "metadata": {},
   "outputs": [],
   "source": []
  },
  {
   "cell_type": "code",
   "execution_count": null,
   "id": "musical-boston",
   "metadata": {},
   "outputs": [],
   "source": [
    "\n"
   ]
  }
 ],
 "metadata": {
  "kernelspec": {
   "display_name": "R",
   "language": "R",
   "name": "ir"
  },
  "language_info": {
   "codemirror_mode": "r",
   "file_extension": ".r",
   "mimetype": "text/x-r-source",
   "name": "R",
   "pygments_lexer": "r",
   "version": "4.0.3"
  }
 },
 "nbformat": 4,
 "nbformat_minor": 5
}
